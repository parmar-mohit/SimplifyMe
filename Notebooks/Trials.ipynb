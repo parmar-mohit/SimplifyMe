{
  "cells": [
    {
      "cell_type": "markdown",
      "source": [
        "### Counting Number of papers model is trained"
      ],
      "metadata": {
        "id": "lHgGoAPNddet"
      },
      "id": "lHgGoAPNddet"
    },
    {
      "cell_type": "code",
      "source": [
        "from google.colab import drive\n",
        "drive.mount('/content/drive')"
      ],
      "metadata": {
        "colab": {
          "base_uri": "https://localhost:8080/"
        },
        "id": "5QQkwad7eZN5",
        "outputId": "da23f2f4-586f-4be4-c7ce-5c1fbeaf0011"
      },
      "id": "5QQkwad7eZN5",
      "execution_count": 21,
      "outputs": [
        {
          "output_type": "stream",
          "name": "stdout",
          "text": [
            "Drive already mounted at /content/drive; to attempt to forcibly remount, call drive.mount(\"/content/drive\", force_remount=True).\n"
          ]
        }
      ]
    },
    {
      "cell_type": "code",
      "source": [
        "import pandas as pd"
      ],
      "metadata": {
        "id": "tbjBnlptdTdq"
      },
      "id": "tbjBnlptdTdq",
      "execution_count": 22,
      "outputs": []
    },
    {
      "cell_type": "code",
      "source": [
        "train_paper_count = 0\n",
        "val_paper_count = 0"
      ],
      "metadata": {
        "id": "1VkanZufdmYu"
      },
      "id": "1VkanZufdmYu",
      "execution_count": 23,
      "outputs": []
    },
    {
      "cell_type": "code",
      "source": [
        "# Scientific - papers dataset\n",
        "for current_data_iteration in range(1,351):\n",
        "  train_dataset_path = f\"./drive/MyDrive/Submission/BE Project Group No 31/Data/training_data{current_data_iteration}.csv\"\n",
        "  val_dataset_path = f\"./drive/MyDrive/Submission/BE Project Group No 31/Data/val_data{current_data_iteration}.csv\"\n",
        "  train_df = pd.read_csv(train_dataset_path)\n",
        "  train_paper_count += len(train_df)\n",
        "\n",
        "  val_df = pd.read_csv(val_dataset_path)\n",
        "  val_paper_count += len(val_df)"
      ],
      "metadata": {
        "id": "KlNNTttWdWfy"
      },
      "id": "KlNNTttWdWfy",
      "execution_count": 24,
      "outputs": []
    },
    {
      "cell_type": "code",
      "source": [
        "#Scillm papers dataset\n",
        "for current_data_iteration in range(2001,2076):\n",
        "  train_dataset_path = f\"./drive/MyDrive/Submission/BE Project Group No 31/Data/training_data{current_data_iteration}.csv\"\n",
        "  val_dataset_path = f\"./drive/MyDrive/Submission/BE Project Group No 31/Data/val_data{current_data_iteration}.csv\"\n",
        "  train_df = pd.read_csv(train_dataset_path)\n",
        "  train_paper_count += len(train_df)\n",
        "\n",
        "  val_df = pd.read_csv(val_dataset_path)\n",
        "  val_paper_count += len(val_df)"
      ],
      "metadata": {
        "id": "mvtDGWMcdqv3"
      },
      "id": "mvtDGWMcdqv3",
      "execution_count": 25,
      "outputs": []
    },
    {
      "cell_type": "code",
      "source": [
        "print(\"Total Papers used in Training : {}\".format(train_paper_count))\n",
        "print(\"Total Papers used in Validation : {}\".format(val_paper_count))"
      ],
      "metadata": {
        "colab": {
          "base_uri": "https://localhost:8080/"
        },
        "id": "r4ocN_OWeKHZ",
        "outputId": "1736df2b-6e1a-4b68-878e-6bc4ecc58c79"
      },
      "id": "r4ocN_OWeKHZ",
      "execution_count": 26,
      "outputs": [
        {
          "output_type": "stream",
          "name": "stdout",
          "text": [
            "Total Papers used in Training : 43201\n",
            "Total Papers used in Validation : 1715\n"
          ]
        }
      ]
    }
  ],
  "metadata": {
    "kernelspec": {
      "display_name": "Python 3 (ipykernel)",
      "language": "python",
      "name": "python3"
    },
    "language_info": {
      "codemirror_mode": {
        "name": "ipython",
        "version": 3
      },
      "file_extension": ".py",
      "mimetype": "text/x-python",
      "name": "python",
      "nbconvert_exporter": "python",
      "pygments_lexer": "ipython3",
      "version": "3.11.1"
    },
    "colab": {
      "provenance": []
    }
  },
  "nbformat": 4,
  "nbformat_minor": 5
}